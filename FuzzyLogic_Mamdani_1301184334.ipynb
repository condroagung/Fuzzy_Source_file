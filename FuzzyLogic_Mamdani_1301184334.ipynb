{
  "nbformat": 4,
  "nbformat_minor": 0,
  "metadata": {
    "colab": {
      "name": "FuzzyLogic_Mamdani_1301184334.ipynb",
      "provenance": [],
      "collapsed_sections": [],
      "include_colab_link": true
    },
    "kernelspec": {
      "name": "python3",
      "display_name": "Python 3"
    }
  },
  "cells": [
    {
      "cell_type": "markdown",
      "metadata": {
        "id": "view-in-github",
        "colab_type": "text"
      },
      "source": [
        "<a href=\"https://colab.research.google.com/github/condroagung/Fuzzy_Source_file/blob/main/FuzzyLogic_Mamdani_1301184334.ipynb\" target=\"_parent\"><img src=\"https://colab.research.google.com/assets/colab-badge.svg\" alt=\"Open In Colab\"/></a>"
      ]
    },
    {
      "cell_type": "markdown",
      "metadata": {
        "id": "3uCgiq0HoJE8"
      },
      "source": [
        "Menghubungkan drive ke google collab"
      ]
    },
    {
      "cell_type": "code",
      "metadata": {
        "id": "oG5LzwMT2-Pj",
        "outputId": "082d1f20-3820-42d9-eeef-78b77fac215a",
        "colab": {
          "base_uri": "https://localhost:8080/"
        }
      },
      "source": [
        "from google.colab import drive\n",
        "drive.mount('/content/gdrive')"
      ],
      "execution_count": null,
      "outputs": [
        {
          "output_type": "stream",
          "text": [
            "Drive already mounted at /content/gdrive; to attempt to forcibly remount, call drive.mount(\"/content/gdrive\", force_remount=True).\n"
          ],
          "name": "stdout"
        }
      ]
    },
    {
      "cell_type": "markdown",
      "metadata": {
        "id": "7jnwywE7oX90"
      },
      "source": [
        "mengambil data mahasiswa.xls dari google drive ke google collab"
      ]
    },
    {
      "cell_type": "code",
      "metadata": {
        "id": "a1m8CTOeIqB-"
      },
      "source": [
        "import pandas as pd\n",
        "import numpy as np\n",
        "import matplotlib.pyplot as plt\n",
        "\n",
        "data_import = pd.read_excel('gdrive/My Drive/Mahasiswa.xls')\n",
        "data_import"
      ],
      "execution_count": null,
      "outputs": []
    },
    {
      "cell_type": "markdown",
      "metadata": {
        "id": "6rEYrebbohDD"
      },
      "source": [
        "mengambil data penghasilan"
      ]
    },
    {
      "cell_type": "code",
      "metadata": {
        "id": "eMbVVjpiJcA0"
      },
      "source": [
        "penghasilan = data_import['Penghasilan']\n",
        "penghasilan"
      ],
      "execution_count": null,
      "outputs": []
    },
    {
      "cell_type": "markdown",
      "metadata": {
        "id": "cdPEi3vlolx7"
      },
      "source": [
        "mengambil data pengeluaran"
      ]
    },
    {
      "cell_type": "code",
      "metadata": {
        "id": "z06xWByuJ6F9"
      },
      "source": [
        "pengeluaran = data_import['Pengeluaran']\n",
        "pengeluaran"
      ],
      "execution_count": null,
      "outputs": []
    },
    {
      "cell_type": "markdown",
      "metadata": {
        "id": "mJl68h3Eon-j"
      },
      "source": [
        "mengambil no ID"
      ]
    },
    {
      "cell_type": "code",
      "metadata": {
        "id": "d7QrtGLEWZDF"
      },
      "source": [
        "no_id = data_import['Id']\n",
        "no_id"
      ],
      "execution_count": null,
      "outputs": []
    },
    {
      "cell_type": "markdown",
      "metadata": {
        "id": "BCsvC1Wll2YX"
      },
      "source": [
        "Pada sisi input, fungsi keanggotaan trapesium digunakan pada penghasilan dan pengeluaran\n",
        "\n",
        "pada sisi output, fungsi keanggotaan trapesium digunakan pada penerimaan\n",
        "\n",
        "variabel linguistik penghasilan dan pengeluaran = {SB,B,S,K}\n",
        "\n",
        "variable linguistik penerimaan = {Y,N}\n",
        "\n",
        "variable numeris digunakan pada derajat keanggotaan input dan output"
      ]
    },
    {
      "cell_type": "code",
      "metadata": {
        "id": "fRIGJW7WwIg-"
      },
      "source": [
        "def fuz_income(hasil):\n",
        "  SB = 0\n",
        "  B = 0\n",
        "  S = 0\n",
        "  K = 0\n",
        "  if (hasil <= 5):\n",
        "    K = 1\n",
        "    S = 0\n",
        "    B = 0\n",
        "    SB = 0\n",
        "    return K,S,B,SB\n",
        "  if (hasil > 5 and hasil <= 7):\n",
        "    K = (7-hasil)/(7-5)\n",
        "    S = (hasil-5)/(7-5)\n",
        "    B = 0\n",
        "    SB = 0\n",
        "    return K,S,B,SB\n",
        "  if (hasil > 7 and hasil <= 8):\n",
        "    K = 0\n",
        "    S = 1\n",
        "    B = 0\n",
        "    SB = 0\n",
        "    return K,S,B,SB\n",
        "  if (hasil > 8 and hasil <= 10):\n",
        "    K = 0\n",
        "    S = (10-hasil)/(10-8)\n",
        "    B = (hasil-8)/(10-8)\n",
        "    SB = 0\n",
        "    return K,S,B,SB\n",
        "  if (hasil > 10 and hasil <= 12):\n",
        "    K = 0\n",
        "    S = 0\n",
        "    B = 1\n",
        "    SB = 0\n",
        "    return K,S,B,SB\n",
        "  if (hasil > 12 and hasil <= 15):\n",
        "    K = 0\n",
        "    S = 0\n",
        "    B = (15-hasil)/(15-12)\n",
        "    SB = (hasil-12)/(15-12)\n",
        "    return K,S,B,SB\n",
        "  if (hasil > 15):\n",
        "    K = 0\n",
        "    S = 0\n",
        "    B = 0\n",
        "    SB = 1\n",
        "    return K,S,B,SB\n",
        "\n",
        "def fuz_outcome(keluar):\n",
        "  SB = 0\n",
        "  B = 0\n",
        "  S = 0\n",
        "  K = 0\n",
        "  if (keluar <= 4):\n",
        "    K = 1\n",
        "    S = 0\n",
        "    B = 0\n",
        "    SB = 0\n",
        "    return K,S,B,SB\n",
        "  if (keluar > 4 and keluar <= 5):\n",
        "    K = (5-keluar)/(5-4)\n",
        "    S = (keluar-4)/(5-4)\n",
        "    B = 0\n",
        "    SB = 0\n",
        "    return K,S,B,SB\n",
        "  if (keluar > 5 and keluar <= 6):\n",
        "    K = 0\n",
        "    S = 1\n",
        "    B = 0\n",
        "    SB = 0\n",
        "    return K,S,B,SB\n",
        "  if (keluar > 6 and keluar <= 7):\n",
        "    K = 0\n",
        "    S = (7-keluar)/(7-6)\n",
        "    B = (keluar-6)/(7-6)\n",
        "    SB = 0\n",
        "    return K,S,B,SB\n",
        "  if (keluar > 7 and keluar <= 9):\n",
        "    K = 0\n",
        "    S = 0\n",
        "    B = 1\n",
        "    SB = 0\n",
        "    return K,S,B,SB\n",
        "  if (keluar > 9 and keluar <= 10):\n",
        "    K = 0\n",
        "    S = 0\n",
        "    B = (10-keluar)/(10-9)\n",
        "    SB = (keluar-9)/(10-9)\n",
        "    return K,S,B,SB\n",
        "  if (keluar > 10):\n",
        "    K = 0\n",
        "    S = 0\n",
        "    B = 0\n",
        "    SB = 1\n",
        "    return K,S,B,SB\n",
        "\n",
        "def fuz_inference_no(hasil,keluar):\n",
        "  output_Z = min(hasil,keluar)\n",
        "  return ([output_Z,4])\n",
        "\n",
        "def fuz_inference_yes(hasil,keluar):\n",
        "  output_Z = min(hasil,keluar)\n",
        "  return ([output_Z,8])\n",
        "\n",
        "    \n"
      ],
      "execution_count": null,
      "outputs": []
    },
    {
      "cell_type": "markdown",
      "metadata": {
        "id": "2tsmTSJKPRNJ"
      },
      "source": [
        "Aturan yang ada :\n",
        "\n",
        "1. IF Penghasilan = Kecil AND Pengeluaran = Sangat Besar THEN Penerimaan = Yes\n",
        "2. IF Penghasilan = Kecil AND Pengeluaran = Besar THEN Penerimaan = Yes\n",
        "3. IF Penghasilan = Kecil AND Pengeluaran = Sedang THEN Penerimaan = Yes\n",
        "4. IF Penghasilan = Kecil AND Pengeluaran = Kecil THEN Penerimaan = Yes\n",
        "5. IF Penghasilan = Sedang AND Pengeluaran = Sangat Besar THEN Penerimaan = Yes\n",
        "6. IF Penghasilan = Sedang AND Pengeluaran = Besar THEN Penerimaan = Yes\n",
        "7. IF Penghasilan = Sedang AND Pengeluaran = Sedang THEN Penerimaan = Yes\n",
        "8. IF Penghasilan = Sedang AND Pengeluaran = Kecil THEN Penerimaan = No\n",
        "9. IF Penghasilan = Besar AND Pengeluaran = Sangat Besar THEN Penerimaan = Yes\n",
        "10. IF Penghasilan = Besar AND Pengeluaran = Besar THEN Penerimaan = No\n",
        "11. IF Penghasilan = Besar AND Pengeluaran = Sedang THEN Penerimaan = No\n",
        "12. IF Penghasilan = Besar AND Pengeluaran = Kecil THEN Penerimaan = No\n",
        "13. IF Penghasilan = Sangat Besar AND Pengeluaran = Sangat Besar THEN Penerimaan = No\n",
        "14. IF Penghasilan = Sangat Besar AND Pengeluaran = Besar THEN Penerimaan = No\n",
        "15. IF Penghasilan = Sangat Besar AND Pengeluaran = Sedang THEN Penerimaan = No\n",
        "16. IF Penghasilan = Sangat Besar AND Pengeluaran = Sedang THEN Penerimaan = No"
      ]
    },
    {
      "cell_type": "code",
      "metadata": {
        "id": "jqhTHe2oPH3j"
      },
      "source": [
        "def Z_calculate(fuzzy_set):\n",
        "  operasi_pembilang = 0\n",
        "  operasi_penyebut = 0\n",
        "  for i in range(0,len(fuzzy_set)):\n",
        "    pembilang = fuzzy_set[i][0]*fuzzy_set[i][1]\n",
        "    penyebut = fuzzy_set[i][0]\n",
        "    operasi_pembilang = operasi_pembilang + pembilang\n",
        "    operasi_penyebut = operasi_penyebut + penyebut\n",
        "  Z = operasi_pembilang/operasi_penyebut\n",
        "  return Z"
      ],
      "execution_count": null,
      "outputs": []
    },
    {
      "cell_type": "code",
      "metadata": {
        "id": "NXvfcI9TSEmR"
      },
      "source": [
        "A = []\n",
        "B = []\n",
        "C = []\n",
        "D = []\n",
        "E = []\n",
        "F = []\n",
        "G = []\n",
        "H = []\n",
        "tempZ = []\n",
        "\n",
        "for i in range(20):\n",
        "  A.append(fuz_income(i)[0])\n",
        "  B.append(fuz_income(i)[1])\n",
        "  C.append(fuz_income(i)[2])\n",
        "  D.append(fuz_income(i)[3])\n",
        "  E.append(fuz_outcome(i)[0])\n",
        "  F.append(fuz_outcome(i)[1])\n",
        "  G.append(fuz_outcome(i)[2])\n",
        "  H.append(fuz_outcome(i)[3])\n",
        "  \n",
        "\n",
        "plt.plot(A)\n",
        "plt.plot(B)\n",
        "plt.plot(C)\n",
        "plt.plot(D)\n",
        "plt.ylabel('Derajat Keanggotaan')\n",
        "plt.xlabel('Besar Penghasilan')\n",
        "plt.show()\n",
        "\n",
        "plt.plot(E)\n",
        "plt.plot(F)\n",
        "plt.plot(G)\n",
        "plt.plot(H)\n",
        "plt.ylabel('Derajat Keanggotaan')\n",
        "plt.xlabel('Besar Pengeluaran')\n",
        "plt.show()"
      ],
      "execution_count": null,
      "outputs": []
    },
    {
      "cell_type": "markdown",
      "metadata": {
        "id": "KnpNRu6Jiteg"
      },
      "source": [
        "Run Main Code"
      ]
    },
    {
      "cell_type": "code",
      "metadata": {
        "id": "ohKYvk-fcQuU"
      },
      "source": [
        "nilai = []\n",
        "for i in range(len(penghasilan)):\n",
        "  temp_Z = []\n",
        "\n",
        "  fuz_income_K = fuz_income(penghasilan[i])[0]\n",
        "  fuz_income_S = fuz_income(penghasilan[i])[1]\n",
        "  fuz_income_B = fuz_income(penghasilan[i])[2]\n",
        "  fuz_income_SB = fuz_income(penghasilan[i])[3]\n",
        "  fuz_outcome_K = fuz_outcome(pengeluaran[i])[0]\n",
        "  fuz_outcome_S = fuz_outcome(pengeluaran[i])[1]\n",
        "  fuz_outcome_B = fuz_outcome(pengeluaran[i])[2]\n",
        "  fuz_outcome_SB = fuz_outcome(pengeluaran[i])[3]\n",
        "\n",
        "  anggota_Z1 = fuz_inference_yes(fuz_income_K,fuz_outcome_SB)\n",
        "  anggota_Z2 = fuz_inference_yes(fuz_income_K,fuz_outcome_S)\n",
        "  anggota_Z3 = fuz_inference_yes(fuz_income_K,fuz_outcome_B)\n",
        "  anggota_Z4 = fuz_inference_yes(fuz_income_K,fuz_outcome_K)\n",
        "  anggota_Z5 = fuz_inference_yes(fuz_income_S,fuz_outcome_SB)\n",
        "  anggota_Z6 = fuz_inference_yes(fuz_income_S,fuz_outcome_S)\n",
        "  anggota_Z7 = fuz_inference_yes(fuz_income_S,fuz_outcome_B)\n",
        "  anggota_Z8 = fuz_inference_no(fuz_income_S,fuz_outcome_K)\n",
        "  anggota_Z9 = fuz_inference_yes(fuz_income_B,fuz_outcome_SB)\n",
        "  anggota_Z10 = fuz_inference_no(fuz_income_B,fuz_outcome_S)\n",
        "  anggota_Z11 = fuz_inference_no(fuz_income_B,fuz_outcome_B)\n",
        "  anggota_Z12 = fuz_inference_no(fuz_income_B,fuz_outcome_K)\n",
        "  anggota_Z13 = fuz_inference_no(fuz_income_SB,fuz_outcome_SB)\n",
        "  anggota_Z14 = fuz_inference_no(fuz_income_SB,fuz_outcome_S)\n",
        "  anggota_Z15 = fuz_inference_no(fuz_income_SB,fuz_outcome_B)\n",
        "  anggota_Z16 = fuz_inference_no(fuz_income_SB,fuz_outcome_K)\n",
        "\n",
        "  temp_Z.append(anggota_Z1)\n",
        "  temp_Z.append(anggota_Z2)\n",
        "  temp_Z.append(anggota_Z3)\n",
        "  temp_Z.append(anggota_Z4)\n",
        "  temp_Z.append(anggota_Z5)\n",
        "  temp_Z.append(anggota_Z6)\n",
        "  temp_Z.append(anggota_Z7)\n",
        "  temp_Z.append(anggota_Z8)\n",
        "  temp_Z.append(anggota_Z9)\n",
        "  temp_Z.append(anggota_Z10)\n",
        "  temp_Z.append(anggota_Z11)\n",
        "  temp_Z.append(anggota_Z12)\n",
        "  temp_Z.append(anggota_Z13)\n",
        "  temp_Z.append(anggota_Z14)\n",
        "  temp_Z.append(anggota_Z15)\n",
        "  temp_Z.append(anggota_Z16)\n",
        "\n",
        "  nilai.append([Z_calculate(temp_Z),no_id[i]])\n",
        "print(nilai)\n",
        "\n",
        "daftar_terima = sorted(nilai,key=lambda x: x[0],reverse=True)\n",
        "print(daftar_terima)"
      ],
      "execution_count": null,
      "outputs": []
    },
    {
      "cell_type": "markdown",
      "metadata": {
        "id": "d8dmzYOsi_Xg"
      },
      "source": [
        "Export Data ke dalam Excel"
      ]
    },
    {
      "cell_type": "code",
      "metadata": {
        "id": "v9zot7OAjBmY",
        "outputId": "836b983a-ff7e-4884-bbb1-d41e4ef0064e",
        "colab": {
          "base_uri": "https://localhost:8080/",
          "height": 229
        }
      },
      "source": [
        "df = pd.DataFrame(columns=['id'])\n",
        "\n",
        "data_id = []\n",
        "for i in range(20):\n",
        "  data_id = daftar_terima[i][1]\n",
        "  newdata = {'id':data_id}\n",
        "  df = df.append(newdata, ignore_index=True)\n",
        "\n",
        "df.to_excel(\"Bantuan.xls\", index=None)\n",
        "print(df)"
      ],
      "execution_count": null,
      "outputs": [
        {
          "output_type": "error",
          "ename": "NameError",
          "evalue": "ignored",
          "traceback": [
            "\u001b[0;31m---------------------------------------------------------------------------\u001b[0m",
            "\u001b[0;31mNameError\u001b[0m                                 Traceback (most recent call last)",
            "\u001b[0;32m<ipython-input-1-9bd4eb4741eb>\u001b[0m in \u001b[0;36m<module>\u001b[0;34m()\u001b[0m\n\u001b[0;32m----> 1\u001b[0;31m \u001b[0mdf\u001b[0m \u001b[0;34m=\u001b[0m \u001b[0mpd\u001b[0m\u001b[0;34m.\u001b[0m\u001b[0mDataFrame\u001b[0m\u001b[0;34m(\u001b[0m\u001b[0mcolumns\u001b[0m\u001b[0;34m=\u001b[0m\u001b[0;34m[\u001b[0m\u001b[0;34m'id'\u001b[0m\u001b[0;34m]\u001b[0m\u001b[0;34m)\u001b[0m\u001b[0;34m\u001b[0m\u001b[0;34m\u001b[0m\u001b[0m\n\u001b[0m\u001b[1;32m      2\u001b[0m \u001b[0;34m\u001b[0m\u001b[0m\n\u001b[1;32m      3\u001b[0m \u001b[0mdata_id\u001b[0m \u001b[0;34m=\u001b[0m \u001b[0;34m[\u001b[0m\u001b[0;34m]\u001b[0m\u001b[0;34m\u001b[0m\u001b[0;34m\u001b[0m\u001b[0m\n\u001b[1;32m      4\u001b[0m \u001b[0;32mfor\u001b[0m \u001b[0mi\u001b[0m \u001b[0;32min\u001b[0m \u001b[0mrange\u001b[0m\u001b[0;34m(\u001b[0m\u001b[0;36m20\u001b[0m\u001b[0;34m)\u001b[0m\u001b[0;34m:\u001b[0m\u001b[0;34m\u001b[0m\u001b[0;34m\u001b[0m\u001b[0m\n\u001b[1;32m      5\u001b[0m   \u001b[0mdata_id\u001b[0m \u001b[0;34m=\u001b[0m \u001b[0mdaftar_terima\u001b[0m\u001b[0;34m[\u001b[0m\u001b[0mi\u001b[0m\u001b[0;34m]\u001b[0m\u001b[0;34m[\u001b[0m\u001b[0;36m1\u001b[0m\u001b[0;34m]\u001b[0m\u001b[0;34m\u001b[0m\u001b[0;34m\u001b[0m\u001b[0m\n",
            "\u001b[0;31mNameError\u001b[0m: name 'pd' is not defined"
          ]
        }
      ]
    }
  ]
}